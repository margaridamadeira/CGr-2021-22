{
 "cells": [
  {
   "cell_type": "markdown",
   "metadata": {},
   "source": [
    "(prep)=\n",
    "# Preparação do ambiente de trabalho \n",
    "\n",
    "\n",
    "Exemplos de código obtidos em [LearnOpenGL](https://learnopengl.com/)"
   ]
  },
  {
   "cell_type": "markdown",
   "metadata": {},
   "source": [
    "## Pré-requisitos\n",
    "\n",
    "drivers, \n",
    "gcc,\n",
    "glfw3, \n",
    "cmake\n"
   ]
  },
  {
   "cell_type": "markdown",
   "metadata": {},
   "source": [
    "Passo 0. Criar uma pasta para as práticas na nossa pasta de *CGr-2020-21*."
   ]
  },
  {
   "cell_type": "markdown",
   "metadata": {},
   "source": [
    "```bash\n",
    "user@machine:~$ cd CGr-2020-21; mkdir P; cd P\n",
    "```"
   ]
  },
  {
   "cell_type": "markdown",
   "metadata": {},
   "source": [
    "Passo 1. Vamos precisar de uma diretoria para a biblioteca *glad* e outras para cada um dos trabalhos."
   ]
  },
  {
   "cell_type": "markdown",
   "metadata": {},
   "source": [
    "Passo 1.1. Criemos então duas pastas, *glad* e *exemplo1*. "
   ]
  },
  {
   "cell_type": "markdown",
   "metadata": {},
   "source": [
    "```bash\n",
    "user@machine:~/CGr-2020-21/P$ mkdir glad; mkdir exemplo1\n",
    "```"
   ]
  },
  {
   "cell_type": "markdown",
   "metadata": {},
   "source": [
    "Passo 1.2. Na pasta global, vamos criar um *CMakeLists.txt* que fará a ligação a cada um dos trabalhos."
   ]
  },
  {
   "cell_type": "markdown",
   "metadata": {},
   "source": [
    "```bash\n",
    "user@machine:~/CGr-2020-21/P$ touch CMakeLists.txt\n",
    "```"
   ]
  },
  {
   "cell_type": "markdown",
   "metadata": {},
   "source": [
    "```cmake\n",
    "# CMakeLists files in this project can\n",
    "# refer to the root source directory of the project as ${CGr_SOURCE_DIR} and\n",
    "# to the root binary directory of the project as ${CGr_BINARY_DIR}.\n",
    "cmake_minimum_required (VERSION 3.15)\n",
    "project (CGr)\n",
    "\n",
    "# OpenGL Flags\n",
    "set(OpenGL_GL_PREFERENCE GLVND)\n",
    "\n",
    "# GLFW - Installed via: sudo apt install libglfw3 libglfw3-dev\n",
    "option(GLFW_BUILD_DOCS OFF)\n",
    "option(GLFW_BUILD_EXAMPLES OFF)\n",
    "option(GLFW_BUILD_TESTS OFF)\n",
    "option(GLFW_INSTALL OFF)\n",
    "find_package(glfw3 REQUIRED)\n",
    "\n",
    "# Recurse into the \"Hello\" and \"Demo\" subdirectories. This does not actually\n",
    "# cause another cmake executable to run. The same process will walk through\n",
    "# the project's entire directory structure.\n",
    "add_subdirectory (glad)\n",
    "add_subdirectory (exemplo1)\n",
    "```"
   ]
  },
  {
   "cell_type": "markdown",
   "metadata": {},
   "source": [
    "Passo 2. Obter e preparar o *glad*."
   ]
  },
  {
   "cell_type": "markdown",
   "metadata": {},
   "source": [
    "Passo 2.1. Desloquemo-nos para a pasta *glad* "
   ]
  },
  {
   "cell_type": "markdown",
   "metadata": {},
   "source": [
    "```bash\n",
    "user@machine:~/CGr-2020-21/P$ cd glad\n",
    "```"
   ]
  },
  {
   "cell_type": "markdown",
   "metadata": {},
   "source": [
    "e aí descarreguemos o zip para a nossa [configuração](http://glad.dav1d.de/#profile=core&specification=gl&api=gl%3D3.3&api=gles1%3Dnone&api=gles2%3Dnone&api=glsc2%3Dnone&language=c&loader=on) escolhendo *Generate* guardando o zip produzido."
   ]
  },
  {
   "cell_type": "markdown",
   "metadata": {},
   "source": [
    "Passo 2.2. Abrir o zip com"
   ]
  },
  {
   "cell_type": "markdown",
   "metadata": {},
   "source": [
    "```bash\n",
    "user@machine:~/CGr-2020-21/P/glad$ unzip glad-core.zip \n",
    "```"
   ]
  },
  {
   "cell_type": "markdown",
   "metadata": {},
   "source": [
    "Passo 2.3. Podemos eliminar o zip, já não precisaremos dele."
   ]
  },
  {
   "cell_type": "markdown",
   "metadata": {},
   "source": [
    "```bash\n",
    "user@machine:~/CGr-2020-21/P/glad$ rm glad-core.zip \n",
    "```"
   ]
  },
  {
   "cell_type": "markdown",
   "metadata": {},
   "source": [
    "Passo 2.4 Criemos o CMakeLists.txt com as instruções para criar esta biblioteca."
   ]
  },
  {
   "cell_type": "markdown",
   "metadata": {},
   "source": [
    "```bash\n",
    "user@machine:~/CGr-2020-21/P/glad$ touch CMakeLists.txt\n",
    "```"
   ]
  },
  {
   "cell_type": "markdown",
   "metadata": {},
   "source": [
    "```cmake\n",
    "# Create a library called \"glad\" which includes the source file \"glad.c\".\n",
    "# The extension is already found. Any number of sources could be listed here.\n",
    "add_library (glad src/glad.c)\n",
    "\n",
    "# Make sure the compiler can find include files for our glad library\n",
    "# when other libraries or executables link to glad\n",
    "target_include_directories (glad PUBLIC include)\n",
    "\n",
    "```"
   ]
  },
  {
   "cell_type": "markdown",
   "metadata": {},
   "source": [
    "O *glad* está preparado e, de futuro, não precisaremos repetir estes passos."
   ]
  },
  {
   "cell_type": "markdown",
   "metadata": {},
   "source": [
    "Passo 3. Vamos criar agora o primeiro exemplo."
   ]
  },
  {
   "cell_type": "markdown",
   "metadata": {},
   "source": [
    "Passo 3.1 Desloquemo-nos para a pasta *exemplo1* e coloquemos aí o código fonte, *main.cpp*"
   ]
  },
  {
   "cell_type": "markdown",
   "metadata": {},
   "source": [
    "```bash\n",
    "user@machine:~/CGr-2020-21/P/glad$ cd ../exemplo1\n",
    "```"
   ]
  },
  {
   "cell_type": "markdown",
   "metadata": {},
   "source": [
    "```bash\n",
    "user@machine:~/CGr-2020-21/P/exemplo1$ touch main.cpp\n",
    "```"
   ]
  },
  {
   "cell_type": "markdown",
   "metadata": {},
   "source": [
    "```c++\n",
    "#include <glad/glad.h>\n",
    "#include <GLFW/glfw3.h>\n",
    "\n",
    "#include <iostream>\n",
    "\n",
    "void framebuffer_size_callback(GLFWwindow* window, int width, int height);\n",
    "void processInput(GLFWwindow *window);\n",
    "\n",
    "// settings\n",
    "const unsigned int SCR_WIDTH = 800;\n",
    "const unsigned int SCR_HEIGHT = 600;\n",
    "\n",
    "int main()\n",
    "{\n",
    "    // glfw: initialize and configure\n",
    "    // ------------------------------\n",
    "    glfwInit();\n",
    "    glfwWindowHint(GLFW_CONTEXT_VERSION_MAJOR, 3);\n",
    "    glfwWindowHint(GLFW_CONTEXT_VERSION_MINOR, 3);\n",
    "    glfwWindowHint(GLFW_OPENGL_PROFILE, GLFW_OPENGL_CORE_PROFILE);\n",
    "\n",
    "#ifdef __APPLE__\n",
    "    glfwWindowHint(GLFW_OPENGL_FORWARD_COMPAT, GL_TRUE);\n",
    "#endif\n",
    "\n",
    "    // glfw window creation\n",
    "    // --------------------\n",
    "    GLFWwindow* window = glfwCreateWindow(SCR_WIDTH, SCR_HEIGHT, \"LearnOpenGL\", NULL, NULL);\n",
    "    if (window == NULL)\n",
    "    {\n",
    "        std::cout << \"Failed to create GLFW window\" << std::endl;\n",
    "        glfwTerminate();\n",
    "        return -1;\n",
    "    }\n",
    "    glfwMakeContextCurrent(window);\n",
    "    glfwSetFramebufferSizeCallback(window, framebuffer_size_callback);\n",
    "\n",
    "    // glad: load all OpenGL function pointers\n",
    "    // ---------------------------------------\n",
    "    if (!gladLoadGLLoader((GLADloadproc)glfwGetProcAddress))\n",
    "    {\n",
    "        std::cout << \"Failed to initialize GLAD\" << std::endl;\n",
    "        return -1;\n",
    "    }    \n",
    "\n",
    "    // render loop\n",
    "    // -----------\n",
    "    while (!glfwWindowShouldClose(window))\n",
    "    {\n",
    "        // input\n",
    "        // -----\n",
    "        processInput(window);\n",
    "\n",
    "        // glfw: swap buffers and poll IO events (keys pressed/released, mouse moved etc.)\n",
    "        // -------------------------------------------------------------------------------\n",
    "        glfwSwapBuffers(window);\n",
    "        glfwPollEvents();\n",
    "    }\n",
    "\n",
    "    // glfw: terminate, clearing all previously allocated GLFW resources.\n",
    "    // ------------------------------------------------------------------\n",
    "    glfwTerminate();\n",
    "    return 0;\n",
    "}\n",
    "\n",
    "// process all input: query GLFW whether relevant keys are pressed/released this frame and react accordingly\n",
    "// ---------------------------------------------------------------------------------------------------------\n",
    "void processInput(GLFWwindow *window)\n",
    "{\n",
    "    if(glfwGetKey(window, GLFW_KEY_ESCAPE) == GLFW_PRESS)\n",
    "        glfwSetWindowShouldClose(window, true);\n",
    "}\n",
    "\n",
    "// glfw: whenever the window size changed (by OS or user resize) this callback function executes\n",
    "// ---------------------------------------------------------------------------------------------\n",
    "void framebuffer_size_callback(GLFWwindow* window, int width, int height)\n",
    "{\n",
    "    // make sure the viewport matches the new window dimensions; note that width and \n",
    "    // height will be significantly larger than specified on retina displays.\n",
    "    glViewport(0, 0, width, height);\n",
    "}\n",
    "\n",
    "```"
   ]
  },
  {
   "cell_type": "markdown",
   "metadata": {},
   "source": [
    "Passo 3.2 Criemos o *CMakeLists.txt* com as instruções para criar o executável"
   ]
  },
  {
   "cell_type": "markdown",
   "metadata": {},
   "source": [
    "```bash\n",
    "user@machine:~/CGr-2020-21/P/exemplo1$ touch CMakeLists.txt\n",
    "```"
   ]
  },
  {
   "cell_type": "markdown",
   "metadata": {},
   "source": [
    "```cmake\n",
    "# Add executable called \"exemplo1\" that is built from the source files\n",
    "# \"main.cxx\". The extensions are automatically found.\n",
    "add_executable (exemplo1 main.cpp)\n",
    "\n",
    "# Link the executable to the glad library. Since the glad library has\n",
    "# public include directories we will use those link directories when building\n",
    "# exemplo1\n",
    "target_link_libraries(exemplo1\n",
    "  LINK_PUBLIC\n",
    "    glfw\n",
    "    glad\n",
    "    ${CMAKE_DL_LIBS} \n",
    ")\n",
    "```"
   ]
  },
  {
   "cell_type": "markdown",
   "metadata": {},
   "source": [
    "Passo 4. Vamos então compilar o código deste exemplo. Voltemos para raiz das pastas das práticas"
   ]
  },
  {
   "cell_type": "markdown",
   "metadata": {},
   "source": [
    "```bash\n",
    "user@machine:~/CGr-2020-21/P/exemplo1$ touch cd ..\n",
    "```"
   ]
  },
  {
   "cell_type": "markdown",
   "metadata": {},
   "source": [
    "Passo 4.1. E criemos uma pasta *build* para os ficheiros resultantes e desloquemo-nos para aí."
   ]
  },
  {
   "cell_type": "markdown",
   "metadata": {},
   "source": [
    "```bash\n",
    "user@machine:~/CGr-2020-21/P$ mkdir build; cd build\n",
    "```"
   ]
  },
  {
   "cell_type": "markdown",
   "metadata": {},
   "source": [
    "Passo 4.2. Usando o *cmake* produzimos *Makefile*, indicando onde está a raiz do *CMakeLists.txt* e onde queremos os executáveis. Neste exemplo"
   ]
  },
  {
   "cell_type": "markdown",
   "metadata": {},
   "source": [
    "```bash\n",
    "user@machine:~/CGr-2020-21/P/build$ cmake -S .. -B.\n",
    "```"
   ]
  },
  {
   "cell_type": "markdown",
   "metadata": {},
   "source": [
    "Passo 4.3. E determinamos a compilação"
   ]
  },
  {
   "cell_type": "markdown",
   "metadata": {},
   "source": [
    "```bash\n",
    "user@machine:~/CGr-2020-21/P/build$ make\n",
    "```"
   ]
  },
  {
   "cell_type": "markdown",
   "metadata": {},
   "source": [
    "Passo 5. Executamos o programa"
   ]
  },
  {
   "cell_type": "markdown",
   "metadata": {},
   "source": [
    "```bash\n",
    "user@machine:~/CGr-2020-21/P/build$ ./exemplo1/exemplo1 \n",
    "```"
   ]
  },
  {
   "cell_type": "markdown",
   "metadata": {},
   "source": [
    "e consegue-se uma janela preta"
   ]
  },
  {
   "cell_type": "markdown",
   "metadata": {},
   "source": [
    "```{figure} /images/black-window.png\n",
    "---\n",
    "height: 300px\n",
    "name: black-window\n",
    "---\n",
    "Primeiro exemplo\n",
    "```"
   ]
  },
  {
   "cell_type": "markdown",
   "metadata": {},
   "source": [
    "Passo 6. Novo exemplo, que ilustra o que faremos para cada novo programa."
   ]
  },
  {
   "cell_type": "markdown",
   "metadata": {},
   "source": [
    "Passo 6.1 No *CMakeLists.txt* principal, adicionamos outra pasta com"
   ]
  },
  {
   "cell_type": "markdown",
   "metadata": {},
   "source": [
    "```cmake\n",
    "add_subdirectory (exemplo2)\n",
    "```"
   ]
  },
  {
   "cell_type": "markdown",
   "metadata": {},
   "source": [
    "Passo 6.1 Duplicamos a pasta *exemplo1* para outra, ao mesmo nível, designada *exemplo2*"
   ]
  },
  {
   "cell_type": "markdown",
   "metadata": {},
   "source": [
    "```bash\n",
    "user@machine:~/CGr-2020-21/P$ cp -r exemplo1 exemplo2\n",
    "```"
   ]
  },
  {
   "cell_type": "markdown",
   "metadata": {},
   "source": [
    "Passo 6.2 Substituimos o *main.cpp* pelo novo código, neste caso *main1.2.cpp*"
   ]
  },
  {
   "cell_type": "markdown",
   "metadata": {},
   "source": [
    "```c++\n",
    "#include <glad/glad.h>\n",
    "#include <GLFW/glfw3.h>\n",
    "\n",
    "#include <iostream>\n",
    "\n",
    "void framebuffer_size_callback(GLFWwindow* window, int width, int height);\n",
    "void processInput(GLFWwindow *window);\n",
    "\n",
    "// settings\n",
    "const unsigned int SCR_WIDTH = 800;\n",
    "const unsigned int SCR_HEIGHT = 600;\n",
    "\n",
    "int main()\n",
    "{\n",
    "    // glfw: initialize and configure\n",
    "    // ------------------------------\n",
    "    glfwInit();\n",
    "    glfwWindowHint(GLFW_CONTEXT_VERSION_MAJOR, 3);\n",
    "    glfwWindowHint(GLFW_CONTEXT_VERSION_MINOR, 3);\n",
    "    glfwWindowHint(GLFW_OPENGL_PROFILE, GLFW_OPENGL_CORE_PROFILE);\n",
    "\n",
    "#ifdef __APPLE__\n",
    "    glfwWindowHint(GLFW_OPENGL_FORWARD_COMPAT, GL_TRUE);\n",
    "#endif\n",
    "\n",
    "    // glfw window creation\n",
    "    // --------------------\n",
    "    GLFWwindow* window = glfwCreateWindow(SCR_WIDTH, SCR_HEIGHT, \"LearnOpenGL\", NULL, NULL);\n",
    "    if (window == NULL)\n",
    "    {\n",
    "        std::cout << \"Failed to create GLFW window\" << std::endl;\n",
    "        glfwTerminate();\n",
    "        return -1;\n",
    "    }\n",
    "    glfwMakeContextCurrent(window);\n",
    "    glfwSetFramebufferSizeCallback(window, framebuffer_size_callback);\n",
    "\n",
    "    // glad: load all OpenGL function pointers\n",
    "    // ---------------------------------------\n",
    "    if (!gladLoadGLLoader((GLADloadproc)glfwGetProcAddress))\n",
    "    {\n",
    "        std::cout << \"Failed to initialize GLAD\" << std::endl;\n",
    "        return -1;\n",
    "    }    \n",
    "\n",
    "    // render loop\n",
    "    // -----------\n",
    "    while (!glfwWindowShouldClose(window))\n",
    "    {\n",
    "        // input\n",
    "        // -----\n",
    "        processInput(window);\n",
    "\n",
    "        // render\n",
    "        // ------\n",
    "        glClearColor(0.5f, 0.5f, 0.5f, 1.0f);\n",
    "        glClear(GL_COLOR_BUFFER_BIT);\n",
    "\n",
    "        // glfw: swap buffers and poll IO events (keys pressed/released, mouse moved etc.)\n",
    "        // -------------------------------------------------------------------------------\n",
    "        glfwSwapBuffers(window);\n",
    "        glfwPollEvents();\n",
    "    }\n",
    "\n",
    "    // glfw: terminate, clearing all previously allocated GLFW resources.\n",
    "    // ------------------------------------------------------------------\n",
    "    glfwTerminate();\n",
    "    return 0;\n",
    "}\n",
    "\n",
    "// process all input: query GLFW whether relevant keys are pressed/released this frame and react accordingly\n",
    "// ---------------------------------------------------------------------------------------------------------\n",
    "void processInput(GLFWwindow *window)\n",
    "{\n",
    "    if(glfwGetKey(window, GLFW_KEY_ESCAPE) == GLFW_PRESS)\n",
    "        glfwSetWindowShouldClose(window, true);\n",
    "}\n",
    "\n",
    "// glfw: whenever the window size changed (by OS or user resize) this callback function executes\n",
    "// ---------------------------------------------------------------------------------------------\n",
    "void framebuffer_size_callback(GLFWwindow* window, int width, int height)\n",
    "{\n",
    "    // make sure the viewport matches the new window dimensions; note that width and \n",
    "    // height will be significantly larger than specified on retina displays.\n",
    "    glViewport(0, 0, width, height);\n",
    "}\n",
    "```"
   ]
  },
  {
   "cell_type": "markdown",
   "metadata": {},
   "source": [
    "Passo 6.3. Corrigimos o nome do executável e do código fonte no ficheiro *CMakeLists.txt* da pasta *exemplo2*"
   ]
  },
  {
   "cell_type": "markdown",
   "metadata": {},
   "source": [
    "Passo 7. Para compilar e executar"
   ]
  },
  {
   "cell_type": "markdown",
   "metadata": {},
   "source": [
    "Passo 7.1 Voltamos para a pasta dos resultados, e chamamos o *cmake* e o *make*."
   ]
  },
  {
   "cell_type": "markdown",
   "metadata": {},
   "source": [
    "```bash\n",
    "user@machine:~/CGr-2020-21/P/build$ cmake -S .. -B. ; make\n",
    "```"
   ]
  },
  {
   "cell_type": "markdown",
   "metadata": {},
   "source": [
    "Se algo não correu bem, após corrigirmos o código fonte, bastará o *make*."
   ]
  },
  {
   "cell_type": "markdown",
   "metadata": {},
   "source": [
    "```bash\n",
    "user@machine:~/CGr-2020-21/P/build$ make\n",
    "```"
   ]
  },
  {
   "cell_type": "markdown",
   "metadata": {},
   "source": [
    "Passo 7.2. Executamos o programa"
   ]
  },
  {
   "cell_type": "markdown",
   "metadata": {},
   "source": [
    "```bash\n",
    "user@machine:~/CGr-2020-21/P/build$ ./exemplo2/exemplo2 \n",
    "```"
   ]
  },
  {
   "cell_type": "markdown",
   "metadata": {},
   "source": [
    "o que faz surgir uma janela cinzenta."
   ]
  },
  {
   "cell_type": "markdown",
   "metadata": {},
   "source": [
    "```{figure} /images/grey-window.png\n",
    "---\n",
    "height: 300px\n",
    "name: grey-window\n",
    "---\n",
    "Segundo exemplo\n"
   ]
  }
 ],
 "metadata": {
  "kernelspec": {
   "display_name": "Python 3",
   "language": "python",
   "name": "python3"
  },
  "language_info": {
   "codemirror_mode": {
    "name": "ipython",
    "version": 3
   },
   "file_extension": ".py",
   "mimetype": "text/x-python",
   "name": "python",
   "nbconvert_exporter": "python",
   "pygments_lexer": "ipython3",
   "version": "3.7.9"
  }
 },
 "nbformat": 4,
 "nbformat_minor": 2
}
