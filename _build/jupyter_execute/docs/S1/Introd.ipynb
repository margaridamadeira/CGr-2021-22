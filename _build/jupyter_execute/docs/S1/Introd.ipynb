{
 "cells": [
  {
   "cell_type": "markdown",
   "metadata": {},
   "source": [
    "# Introdução\n",
    "\n"
   ]
  },
  {
   "cell_type": "markdown",
   "metadata": {},
   "source": [
    "Na primeira aula, esclarecem-se detalhes sobre a avaliação na cadeira, sob código de honra, apresentam-se os ambientes de trabalho e locais onde a informação pode ser encontrada.\n",
    "\n",
    "Passa-se então para o enquadramento, referindo alguns conceitos."
   ]
  }
 ],
 "metadata": {
  "language_info": {
   "codemirror_mode": {
    "name": "ipython",
    "version": 3
   },
   "file_extension": ".py",
   "mimetype": "text/x-python",
   "name": "python",
   "nbconvert_exporter": "python",
   "pygments_lexer": "ipython3",
   "version": 3
  }
 },
 "nbformat": 4,
 "nbformat_minor": 2
}